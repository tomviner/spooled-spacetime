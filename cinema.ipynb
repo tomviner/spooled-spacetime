{
 "cells": [
  {
   "cell_type": "code",
   "execution_count": 1,
   "metadata": {},
   "outputs": [],
   "source": [
    "from datetime import datetime, timezone\n",
    "from urllib.parse import urlencode\n",
    "import webbrowser\n",
    "\n",
    "import requests\n",
    "from dateutil.parser import parse as parse_date\n",
    "from funcy import post_processing, project\n",
    "from ipyleaflet import Map, Marker, MarkerCluster\n",
    "\n",
    "\n",
    "lat, lng = 51.525609042041864, -0.12358503246188147\n",
    "qs = {\n",
    "    'include[0]': 'theaters',\n",
    "    'include[1]': 'exhibitors',\n",
    "    'include[2]': 'movies',\n",
    "    'include[3]': 'formats',\n",
    "    'filter[titles][slug][0]': 'apollo-11',\n",
    "    'filter[theaters][lat]': lat,\n",
    "    'filter[theaters][lon]': lng,\n",
    "    'filter[theaters][rf]': '3',\n",
    "    'filter[theaters][country][0]': 'gu',\n",
    "    'filter[theaters][country][1]': 'gg',\n",
    "    'filter[theaters][country][2]': 'im',\n",
    "    'filter[theaters][country][3]': 'gb',\n",
    "    'filter[theaters][country][4]': 'je',\n",
    "    'filter[theaters][country][5]': 'ie',\n",
    "}\n",
    "\n",
    "url = f'https://stdata.powster.com/screenings?{urlencode(qs)}'"
   ]
  },
  {
   "cell_type": "code",
   "execution_count": 2,
   "metadata": {},
   "outputs": [],
   "source": [
    "response = requests.get(url)\n",
    "response.raise_for_status()\n",
    "doc = response.json()"
   ]
  },
  {
   "cell_type": "code",
   "execution_count": 3,
   "metadata": {},
   "outputs": [
    {
     "name": "stdout",
     "output_type": "stream",
     "text": [
      "data 453\n",
      "meta 0\n",
      "included 154\n"
     ]
    }
   ],
   "source": [
    "for key, value in doc.items():\n",
    "    print(key, len(value))"
   ]
  },
  {
   "cell_type": "code",
   "execution_count": 4,
   "metadata": {},
   "outputs": [
    {
     "data": {
      "text/plain": [
       "{'date': '2019-07-25T00:00:00.000Z',\n",
       " 'time': '16:00:00',\n",
       " 'datetime': datetime.datetime(2019, 7, 25, 16, 0, tzinfo=datetime.timezone.utc)}"
      ]
     },
     "execution_count": 4,
     "metadata": {},
     "output_type": "execute_result"
    }
   ],
   "source": [
    "@post_processing(list)\n",
    "def get_screenings(data):\n",
    "    seen = set()\n",
    "    for screening in data:\n",
    "        s = screening['attributes']\n",
    "        if not s['date'] or not s['time']:\n",
    "            continue\n",
    "        time = parse_date(s['time'])\n",
    "        date = parse_date(s['date'])\n",
    "        dt = datetime.combine(date, time.time())\n",
    "        s['datetime'] = dt.replace(tzinfo=dt.tzinfo or timezone.utc)\n",
    "        unique_data = project(s, ('datetime', 'theater')).__str__()\n",
    "        if unique_data in seen:\n",
    "            continue\n",
    "        seen.add(unique_data)\n",
    "        yield s\n",
    "    \n",
    "screenings = get_screenings(doc['data'])\n",
    "project(screenings[0], ('date', 'time', 'datetime'))"
   ]
  },
  {
   "cell_type": "code",
   "execution_count": 5,
   "metadata": {},
   "outputs": [
    {
     "data": {
      "text/plain": [
       "{'movie_id': 'e6a02464-7576-11e9-bd37-ab00ceaad779',\n",
       " 'theater_id': 'da6f4a38-d738-11e5-bccb-937c20d316a2',\n",
       " 'provider_id': 'pow',\n",
       " 'provider_screening_id': None,\n",
       " 'date': '2019-07-22T00:00:00.000Z',\n",
       " 'time': '20:30:00',\n",
       " 'url': 'https://www.jw3.org.uk/event/apollo-11#.XSSh-OgzZPY',\n",
       " 'cta': None,\n",
       " 'is_visible': True,\n",
       " 'tz_offset': None,\n",
       " 'doc': None,\n",
       " 'datetime': datetime.datetime(2019, 7, 22, 20, 30, tzinfo=datetime.timezone.utc)}"
      ]
     },
     "execution_count": 5,
     "metadata": {},
     "output_type": "execute_result"
    }
   ],
   "source": [
    "@post_processing(list)\n",
    "def filter_by_date(screenings, start, end):\n",
    "    for s in screenings:\n",
    "        if start <= s['datetime'] <= end:\n",
    "            yield s\n",
    "\n",
    "start = datetime(2019, 7, 22, 17, tzinfo=timezone.utc)\n",
    "end = datetime(2019, 7, 22, 22, tzinfo=timezone.utc)\n",
    "dated = filter_by_date(screenings, start, end)\n",
    "dated[0]"
   ]
  },
  {
   "cell_type": "code",
   "execution_count": 6,
   "metadata": {},
   "outputs": [
    {
     "data": {
      "text/plain": [
       "{'type': 'movies',\n",
       " 'id': '06784d4e-96aa-11e9-a442-03a76d585de9',\n",
       " 'attributes': {'provider_id': 'mx',\n",
       "  'provider_movie_id': '2b83f8b7-4fb3-4f91-8699-f6217e321610',\n",
       "  'format_id': '4c5e546c-2d46-11e8-9156-9f1ab0ac9b09',\n",
       "  'title': 'Apollo 11',\n",
       "  'official_site': None,\n",
       "  'fandango_movie_id': None,\n",
       "  'movietickets_movie_id': None,\n",
       "  'movie_master_id': '91c2ec6c-1b6a-11e9-9052-43415f526ce1',\n",
       "  'release_date': None,\n",
       "  'meta': {'cast': ['Michael Collins', 'Neil Armstrong', 'Buzz Aldrin'],\n",
       "   'genre': ['documentary'],\n",
       "   'director': ['Todd Douglas Miller']},\n",
       "  'slug': 'apollo-11'}}"
      ]
     },
     "execution_count": 6,
     "metadata": {},
     "output_type": "execute_result"
    }
   ],
   "source": [
    "doc['included'][0]"
   ]
  },
  {
   "cell_type": "code",
   "execution_count": 7,
   "metadata": {},
   "outputs": [
    {
     "data": {
      "text/plain": [
       "{'theater_master_id': '2eb763be-5701-11e9-a90f-ab6c3fa81ab1',\n",
       " 'name': 'Archlight Cinemas',\n",
       " 'address': 'Arches Lane',\n",
       " 'city': 'London',\n",
       " 'postcode': 'SW11 8AB',\n",
       " 'country': 'gb',\n",
       " 'state': 'UK',\n",
       " 'url': 'http://archlightcinemas.co.uk',\n",
       " 'name_en': None,\n",
       " 'address_en': None,\n",
       " 'city_en': None,\n",
       " 'lat': 51.48313,\n",
       " 'lon': -0.14911,\n",
       " 'tz': None,\n",
       " 'tmsid': None,\n",
       " 'tms_id': None,\n",
       " 'fandango_theater_id': None,\n",
       " 'movietickets_theater_id': None,\n",
       " 'atom_theater_id': None,\n",
       " 'wwm_ticketing': False,\n",
       " 'wwm_tickettype': None,\n",
       " 'exhibitor_id': '03f71480-0e59-11e9-86d2-d7cb380d92c4',\n",
       " 'provider_id': 'wwm',\n",
       " 'provider_theater_id': '48735',\n",
       " 'provider_exhibitor_id': None}"
      ]
     },
     "execution_count": 7,
     "metadata": {},
     "output_type": "execute_result"
    }
   ],
   "source": [
    "theaters = {item['id']: item['attributes'] for item in doc['included'] if item['type'] == 'theaters'}\n",
    "next(iter(theaters.values()))"
   ]
  },
  {
   "cell_type": "code",
   "execution_count": 8,
   "metadata": {},
   "outputs": [
    {
     "data": {
      "text/plain": [
       "(datetime.datetime(2019, 7, 22, 20, 30, tzinfo=datetime.timezone.utc),\n",
       " {'theater_master_id': '7dd3e64c-f026-11e5-85d5-33333048279d',\n",
       "  'name': 'JW3',\n",
       "  'address': '341-351 Finchley Road',\n",
       "  'city': 'London',\n",
       "  'postcode': 'NW3 6ET',\n",
       "  'country': 'gb',\n",
       "  'state': None,\n",
       "  'url': 'http://www.jw3.org.uk/cinema',\n",
       "  'name_en': None,\n",
       "  'address_en': None,\n",
       "  'city_en': None,\n",
       "  'lat': 51.551052,\n",
       "  'lon': -0.184781,\n",
       "  'tz': None,\n",
       "  'tmsid': None,\n",
       "  'tms_id': None,\n",
       "  'fandango_theater_id': None,\n",
       "  'movietickets_theater_id': None,\n",
       "  'atom_theater_id': None,\n",
       "  'wwm_ticketing': None,\n",
       "  'wwm_tickettype': None,\n",
       "  'exhibitor_id': 'e8fa8460-cfe9-11e5-b5e5-d78be98fcd64',\n",
       "  'provider_id': 'pow',\n",
       "  'provider_theater_id': 'jw3|london|nw36et',\n",
       "  'provider_exhibitor_id': None})"
      ]
     },
     "execution_count": 8,
     "metadata": {},
     "output_type": "execute_result"
    }
   ],
   "source": [
    "@post_processing(list)\n",
    "def include_theaters(screenings):\n",
    "    for s in screenings:\n",
    "        theater_id = s.get('theater_id')\n",
    "        if not theater_id:\n",
    "            continue\n",
    "        theater = theaters[theater_id]\n",
    "        s['theater'] = theater\n",
    "        s['map_title'] = f'{s[\"time\"]} {s[\"theater\"][\"name\"]}'\n",
    "        yield s\n",
    "\n",
    "theater_screenings = include_theaters(dated)\n",
    "theater_screenings[0]['datetime'], theater_screenings[0]['theater']"
   ]
  },
  {
   "cell_type": "code",
   "execution_count": 9,
   "metadata": {},
   "outputs": [
    {
     "name": "stdout",
     "output_type": "stream",
     "text": [
      "18:20:00 Crouch End Picturehouse\n",
      "18:30:00 Bromley Picturehouse\n",
      "19:15:00 Vue - Finchley Road / 02 Centre\n",
      "19:40:00 Archlight Cinemas\n",
      "20:00:00 Cineworld Cinema - Fulham Road\n",
      "20:30:00 JW3\n",
      "20:35:00 BFI Southbank\n",
      "20:40:00 Curzon Bloomsbury\n",
      "21:35:00 Picturehouse Central\n"
     ]
    }
   ],
   "source": [
    "time_to_title = [s['map_title'] for s in theater_screenings]\n",
    "for s in sorted(time_to_title):\n",
    "    print(s)"
   ]
  },
  {
   "cell_type": "code",
   "execution_count": 10,
   "metadata": {},
   "outputs": [
    {
     "data": {
      "application/vnd.jupyter.widget-view+json": {
       "model_id": "806ab2faaf204b65be1899862a34db81",
       "version_major": 2,
       "version_minor": 0
      },
      "text/plain": [
       "Map(basemap={'url': 'https://{s}.tile.openstreetmap.org/{z}/{x}/{y}.png', 'max_zoom': 19, 'attribution': 'Map …"
      ]
     },
     "metadata": {},
     "output_type": "display_data"
    }
   ],
   "source": [
    "@post_processing(list)\n",
    "def get_markers(screenings):\n",
    "    coords_to_url = {}\n",
    "    for s in screenings:\n",
    "        theater = s.get('theater')\n",
    "        if not theater:\n",
    "            continue\n",
    "        lat, lng = theater.get('lat'), theater.get('lon')\n",
    "        if lat is None or lng is None:\n",
    "            continue\n",
    "            \n",
    "        coords_to_url[(lat, lng)] = s['url']\n",
    "        title = s['map_title']\n",
    "        mkr = Marker(location=(lat, lng), draggable=False, title=title)\n",
    "        \n",
    "        def handle_click(*args, **kwargs):\n",
    "            url = coords_to_url[tuple(kwargs['coordinates'])]\n",
    "            webbrowser.open(url)\n",
    "    \n",
    "        mkr.on_click(handle_click)\n",
    "        \n",
    "        yield mkr\n",
    "\n",
    "m = Map(center=(lat, lng), zoom=13)\n",
    "marker_cluster = MarkerCluster(markers=get_markers(theater_screenings))\n",
    "m.add_layer(marker_cluster)\n",
    "m.layout.height = '600px'\n",
    "m"
   ]
  },
  {
   "cell_type": "code",
   "execution_count": null,
   "metadata": {},
   "outputs": [],
   "source": []
  }
 ],
 "metadata": {
  "kernelspec": {
   "display_name": "Python 3",
   "language": "python",
   "name": "python3"
  },
  "language_info": {
   "codemirror_mode": {
    "name": "ipython",
    "version": 3
   },
   "file_extension": ".py",
   "mimetype": "text/x-python",
   "name": "python",
   "nbconvert_exporter": "python",
   "pygments_lexer": "ipython3",
   "version": "3.7.3"
  }
 },
 "nbformat": 4,
 "nbformat_minor": 4
}
