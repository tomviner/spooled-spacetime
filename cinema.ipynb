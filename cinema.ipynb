{
 "cells": [
  {
   "cell_type": "code",
   "execution_count": 1,
   "metadata": {},
   "outputs": [],
   "source": [
    "from datetime import datetime, timezone\n",
    "import webbrowser\n",
    "\n",
    "import requests\n",
    "from dateutil.parser import parse as parse_date\n",
    "from funcy import post_processing, project\n",
    "from ipyleaflet import Map, Marker, LayerGroup, Popup\n",
    "from ipywidgets import HTML"
   ]
  },
  {
   "cell_type": "code",
   "execution_count": 2,
   "metadata": {},
   "outputs": [],
   "source": [
    "movie = 'the-current-war'\n",
    "lat, lng = 51.525609042041864, -0.12358503246188147\n",
    "params = {\n",
    "    'include[0]': 'theaters',\n",
    "    'include[1]': 'exhibitors',\n",
    "    'include[2]': 'movies',\n",
    "    'include[3]': 'formats',\n",
    "    'filter[titles][slug][0]': movie,\n",
    "    'filter[theaters][lat]': lat,\n",
    "    'filter[theaters][lon]': lng,\n",
    "    'filter[theaters][rf]': '3',\n",
    "    'filter[theaters][country][0]': 'gu',\n",
    "    'filter[theaters][country][1]': 'gg',\n",
    "    'filter[theaters][country][2]': 'im',\n",
    "    'filter[theaters][country][3]': 'gb',\n",
    "    'filter[theaters][country][4]': 'je',\n",
    "    'filter[theaters][country][5]': 'ie',\n",
    "}\n",
    "\n",
    "base_url = f'https://stdata.powster.com/screenings'"
   ]
  },
  {
   "cell_type": "code",
   "execution_count": 3,
   "metadata": {},
   "outputs": [],
   "source": [
    "response = requests.get(base_url, params=params)\n",
    "response.raise_for_status()\n",
    "doc = response.json()"
   ]
  },
  {
   "cell_type": "code",
   "execution_count": 4,
   "metadata": {},
   "outputs": [
    {
     "name": "stdout",
     "output_type": "stream",
     "text": [
      "data 3103\n",
      "meta 0\n",
      "included 240\n"
     ]
    }
   ],
   "source": [
    "for key, value in doc.items():\n",
    "    print(key, len(value))"
   ]
  },
  {
   "cell_type": "code",
   "execution_count": 5,
   "metadata": {},
   "outputs": [
    {
     "data": {
      "text/plain": [
       "{'date': '2019-07-26T00:00:00.000Z',\n",
       " 'time': '15:30:00',\n",
       " 'datetime': datetime.datetime(2019, 7, 26, 15, 30, tzinfo=datetime.timezone.utc)}"
      ]
     },
     "execution_count": 5,
     "metadata": {},
     "output_type": "execute_result"
    }
   ],
   "source": [
    "@post_processing(list)\n",
    "def get_screenings(data):\n",
    "    seen = set()\n",
    "    for screening in data:\n",
    "        s = screening['attributes']\n",
    "        if not s['date'] or not s['time']:\n",
    "            continue\n",
    "        time = parse_date(s['time'])\n",
    "        date = parse_date(s['date'])\n",
    "        dt = datetime.combine(date, time.time())\n",
    "        s['datetime'] = dt.replace(tzinfo=dt.tzinfo or timezone.utc)\n",
    "        unique_data = project(s, ('datetime', 'theater')).__str__()\n",
    "        if unique_data in seen:\n",
    "            continue\n",
    "        seen.add(unique_data)\n",
    "        yield s\n",
    "    \n",
    "screenings = get_screenings(doc['data'])\n",
    "project(screenings[0], ('date', 'time', 'datetime'))"
   ]
  },
  {
   "cell_type": "code",
   "execution_count": 6,
   "metadata": {},
   "outputs": [
    {
     "data": {
      "text/plain": [
       "{'movie_id': 'd097ac02-7d5d-11e9-8537-a7e0e3d26e93',\n",
       " 'theater_id': '96b30dee-347c-11e9-8e8e-9732a0d60e15',\n",
       " 'provider_id': 'wwm',\n",
       " 'provider_screening_id': None,\n",
       " 'date': '2019-07-29T00:00:00.000Z',\n",
       " 'time': '18:15:00',\n",
       " 'url': 'https://www.myvue.com/book-tickets/summary/10096/226797/2939?SC_CMP=AFF_POW',\n",
       " 'cta': None,\n",
       " 'is_visible': True,\n",
       " 'tz_offset': None,\n",
       " 'doc': None,\n",
       " 'datetime': datetime.datetime(2019, 7, 29, 18, 15, tzinfo=datetime.timezone.utc)}"
      ]
     },
     "execution_count": 6,
     "metadata": {},
     "output_type": "execute_result"
    }
   ],
   "source": [
    "@post_processing(list)\n",
    "def filter_by_date(screenings, start, end):\n",
    "    for s in screenings:\n",
    "        if start <= s['datetime'] <= end:\n",
    "            yield s\n",
    "\n",
    "start = datetime(2019, 7, 29, 17, tzinfo=timezone.utc)\n",
    "end = datetime(2019, 7, 29, 19, tzinfo=timezone.utc)\n",
    "dated = filter_by_date(screenings, start, end)\n",
    "dated[0]"
   ]
  },
  {
   "cell_type": "code",
   "execution_count": 7,
   "metadata": {},
   "outputs": [
    {
     "data": {
      "text/plain": [
       "{'type': 'movies',\n",
       " 'id': 'd097ac02-7d5d-11e9-8537-a7e0e3d26e93',\n",
       " 'attributes': {'provider_id': 'wwm',\n",
       "  'provider_movie_id': '247746',\n",
       "  'format_id': '4c5e546c-2d46-11e8-9156-9f1ab0ac9b09',\n",
       "  'title': 'The Current War',\n",
       "  'official_site': None,\n",
       "  'fandango_movie_id': None,\n",
       "  'movietickets_movie_id': None,\n",
       "  'movie_master_id': 'bc9fedd4-0d59-11e7-8cd1-97388f63a017',\n",
       "  'release_date': '2019-10-11T00:00:00.000Z',\n",
       "  'meta': {'cast': ['Benedict Cumberbatch',\n",
       "    'Michael Shannon',\n",
       "    'Nicholas Hoult',\n",
       "    'Katherine Waterston',\n",
       "    'Tom Holland',\n",
       "    'Tuppence Middleton'],\n",
       "   'genre': ['Drama'],\n",
       "   'rating': {'us': 'PG-13'},\n",
       "   'writer': ['Michael Mitnick'],\n",
       "   'director': ['Alfonso Gomez-Rejon'],\n",
       "   'parent_id': '0',\n",
       "   'distributor': ['101 Studios'],\n",
       "   'webedia_trailer_file': '247746',\n",
       "   'webedia_onesheet_filename': '247746h1.jpg'},\n",
       "  'slug': 'the-current-war'}}"
      ]
     },
     "execution_count": 7,
     "metadata": {},
     "output_type": "execute_result"
    }
   ],
   "source": [
    "doc['included'][0]"
   ]
  },
  {
   "cell_type": "code",
   "execution_count": 8,
   "metadata": {},
   "outputs": [
    {
     "data": {
      "text/plain": [
       "{'theater_master_id': '3b521d7c-f78f-11e6-b016-4f231659d920',\n",
       " 'name': 'Cineworld Cinema - Harlow Town Centre',\n",
       " 'address': 'Harvey Shopping Centre',\n",
       " 'city': 'Harlow',\n",
       " 'postcode': 'CM20 1XR',\n",
       " 'country': 'gb',\n",
       " 'state': 'UK',\n",
       " 'url': 'https://www.cineworld.co.uk/cinemas/harlow-harvey-centre',\n",
       " 'name_en': None,\n",
       " 'address_en': None,\n",
       " 'city_en': None,\n",
       " 'lat': 51.77328,\n",
       " 'lon': 0.08922,\n",
       " 'tz': 'Europe/London',\n",
       " 'tmsid': None,\n",
       " 'tms_id': None,\n",
       " 'fandango_theater_id': None,\n",
       " 'movietickets_theater_id': None,\n",
       " 'atom_theater_id': None,\n",
       " 'wwm_ticketing': False,\n",
       " 'wwm_tickettype': None,\n",
       " 'exhibitor_id': 'e7f584a2-cfe9-11e5-b59b-73bc65f6099b',\n",
       " 'provider_id': 'wwm',\n",
       " 'provider_theater_id': '43108',\n",
       " 'provider_exhibitor_id': None}"
      ]
     },
     "execution_count": 8,
     "metadata": {},
     "output_type": "execute_result"
    }
   ],
   "source": [
    "theaters = {item['id']: item['attributes'] for item in doc['included'] if item['type'] == 'theaters'}\n",
    "next(iter(theaters.values()))"
   ]
  },
  {
   "cell_type": "code",
   "execution_count": 28,
   "metadata": {},
   "outputs": [
    {
     "data": {
      "text/plain": [
       "(datetime.datetime(2019, 7, 29, 18, 15, tzinfo=datetime.timezone.utc),\n",
       " {'theater_master_id': 'e6efc518-62a8-11e9-9035-47f88dc7fa65',\n",
       "  'name': 'Vue - Eltham',\n",
       "  'address': '168-176 High Street',\n",
       "  'city': 'Eltham',\n",
       "  'postcode': 'SE9 1BJ',\n",
       "  'country': 'gb',\n",
       "  'state': 'UK',\n",
       "  'url': 'https://www.myvue.com/',\n",
       "  'name_en': None,\n",
       "  'address_en': None,\n",
       "  'city_en': None,\n",
       "  'lat': 51.45068,\n",
       "  'lon': 0.05645,\n",
       "  'tz': None,\n",
       "  'tmsid': None,\n",
       "  'tms_id': None,\n",
       "  'fandango_theater_id': None,\n",
       "  'movietickets_theater_id': None,\n",
       "  'atom_theater_id': None,\n",
       "  'wwm_ticketing': False,\n",
       "  'wwm_tickettype': None,\n",
       "  'exhibitor_id': 'cdc4db50-cfe9-11e5-bf2d-c7ec2f75ebc8',\n",
       "  'provider_id': 'wwm',\n",
       "  'provider_theater_id': '49056',\n",
       "  'provider_exhibitor_id': None})"
      ]
     },
     "execution_count": 28,
     "metadata": {},
     "output_type": "execute_result"
    }
   ],
   "source": [
    "@post_processing(list)\n",
    "def include_theaters(screenings):\n",
    "    for s in screenings:\n",
    "        theater_id = s.get('theater_id')\n",
    "        if not theater_id:\n",
    "            continue\n",
    "        theater = theaters[theater_id]\n",
    "        s['theater'] = theater\n",
    "        s['map_title'] = f'{s[\"datetime\"].strftime(\"%H:%M\")} {s[\"theater\"][\"name\"]}'\n",
    "        yield s\n",
    "\n",
    "theater_screenings = include_theaters(dated)\n",
    "theater_screenings[0]['datetime'], theater_screenings[0]['theater']"
   ]
  },
  {
   "cell_type": "code",
   "execution_count": 29,
   "metadata": {},
   "outputs": [
    {
     "name": "stdout",
     "output_type": "stream",
     "text": [
      "17:00 Showcase Newham\n",
      "17:05 Vue - Westfield Stratford City\n",
      "17:10 Vue - Westfield\n",
      "17:15 Premiere Cinemas - Romford\n",
      "17:20 Empire - Sutton\n",
      "17:30 Cineworld Cinema - South Ruislip\n",
      "17:40 Empire - Walthamstow\n",
      "17:45 ODEON Swiss Cottage\n",
      "17:50 ODEON Wimbledon\n",
      "17:55 Vue - Harrow\n",
      "18:00 Vue - Wood Green\n",
      "18:05 Vue - Fulham Broadway\n",
      "18:10 Vue - Thurrock\n",
      "18:15 Vue - Eltham\n",
      "18:20 Cineworld Cinema - Ilford\n",
      "18:25 Vue - Shepherds Bush\n",
      "18:30 Everyman Esher\n",
      "18:45 Picturehouse Central\n",
      "18:50 Vue - Watford\n"
     ]
    }
   ],
   "source": [
    "time_to_title = [s['map_title'] for s in theater_screenings]\n",
    "for s in sorted(time_to_title):\n",
    "    print(s)"
   ]
  },
  {
   "cell_type": "code",
   "execution_count": 34,
   "metadata": {},
   "outputs": [
    {
     "data": {
      "application/vnd.jupyter.widget-view+json": {
       "model_id": "cdd4a195081e40fbb660abaad0d0157c",
       "version_major": 2,
       "version_minor": 0
      },
      "text/plain": [
       "Map(basemap={'url': 'https://{s}.tile.openstreetmap.org/{z}/{x}/{y}.png', 'max_zoom': 19, 'attribution': 'Map …"
      ]
     },
     "metadata": {},
     "output_type": "display_data"
    }
   ],
   "source": [
    "@post_processing(list)\n",
    "def get_markers(screenings):\n",
    "    coords_to_url = {}\n",
    "    \n",
    "    for s in screenings:\n",
    "        theater = s.get('theater')\n",
    "        if not theater:\n",
    "            continue\n",
    "        lat, lng = theater.get('lat'), theater.get('lon')\n",
    "        if lat is None or lng is None:\n",
    "            continue\n",
    "            \n",
    "        location = (lat, lng)\n",
    "        \n",
    "        url = s['url']\n",
    "        title = s['map_title']\n",
    "\n",
    "        message = HTML(f\"<a href='{ url }' target='_new'>{ title }</a>\")\n",
    "        \n",
    "        popup = Popup(\n",
    "            location=location,\n",
    "            child=message,\n",
    "            close_button=False,\n",
    "            auto_close=False,\n",
    "            close_on_escape_key=False\n",
    "        )\n",
    "\n",
    "        yield popup\n",
    "\n",
    "m = Map(center=(lat, lng), zoom=12)\n",
    "\n",
    "for popup in get_markers(theater_screenings):\n",
    "    m.add_layer(popup)\n",
    "\n",
    "m.layout.height = '600px'\n",
    "m"
   ]
  },
  {
   "cell_type": "code",
   "execution_count": null,
   "metadata": {},
   "outputs": [],
   "source": []
  }
 ],
 "metadata": {
  "kernelspec": {
   "display_name": "Python 3",
   "language": "python",
   "name": "python3"
  },
  "language_info": {
   "codemirror_mode": {
    "name": "ipython",
    "version": 3
   },
   "file_extension": ".py",
   "mimetype": "text/x-python",
   "name": "python",
   "nbconvert_exporter": "python",
   "pygments_lexer": "ipython3",
   "version": "3.7.3"
  }
 },
 "nbformat": 4,
 "nbformat_minor": 4
}
